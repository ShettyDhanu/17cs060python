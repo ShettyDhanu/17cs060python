{
  "nbformat": 4,
  "nbformat_minor": 0,
  "metadata": {
    "colab": {
      "name": "data.ipynb",
      "provenance": [],
      "collapsed_sections": [],
      "authorship_tag": "ABX9TyOv/yDnSRn+6YUTrXlT77jo",
      "include_colab_link": true
    },
    "kernelspec": {
      "name": "python3",
      "display_name": "Python 3"
    }
  },
  "cells": [
    {
      "cell_type": "markdown",
      "metadata": {
        "id": "view-in-github",
        "colab_type": "text"
      },
      "source": [
        "<a href=\"https://colab.research.google.com/github/ShettyDhanu/17cs060python/blob/master/data.ipynb\" target=\"_parent\"><img src=\"https://colab.research.google.com/assets/colab-badge.svg\" alt=\"Open In Colab\"/></a>"
      ]
    },
    {
      "cell_type": "code",
      "metadata": {
        "id": "hAQ3iQJzf4wk",
        "colab_type": "code",
        "colab": {}
      },
      "source": [
        "import pandas as pd"
      ],
      "execution_count": 1,
      "outputs": []
    },
    {
      "cell_type": "code",
      "metadata": {
        "id": "wgmAHYc0ggiN",
        "colab_type": "code",
        "colab": {
          "base_uri": "https://localhost:8080/",
          "height": 101
        },
        "outputId": "b55a0374-eac8-45b4-8db0-c39bd345d84e"
      },
      "source": [
        "data={'Name':['Taylor','John','Renil','Johny'],'Age':[29,21,32,21],'Address':['Surat','Banglore','Mumbai','Delhi'],'Qualification':['MSc','MCA','MBA','BE']}\n",
        "df=pd.DataFrame(data)\n",
        "print(df)"
      ],
      "execution_count": 2,
      "outputs": [
        {
          "output_type": "stream",
          "text": [
            "     Name  Age   Address Qualification\n",
            "0  Taylor   29     Surat           MSc\n",
            "1    John   21  Banglore           MCA\n",
            "2   Renil   32    Mumbai           MBA\n",
            "3   Johny   21     Delhi            BE\n"
          ],
          "name": "stdout"
        }
      ]
    },
    {
      "cell_type": "code",
      "metadata": {
        "id": "gfFYe1TJhiiQ",
        "colab_type": "code",
        "colab": {}
      },
      "source": [
        ""
      ],
      "execution_count": null,
      "outputs": []
    }
  ]
}